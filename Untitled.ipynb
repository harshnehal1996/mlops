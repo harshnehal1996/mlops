{
 "cells": [
  {
   "cell_type": "code",
   "execution_count": 1,
   "metadata": {},
   "outputs": [
    {
     "name": "stderr",
     "output_type": "stream",
     "text": [
      "/home/harsh/.local/lib/python3.10/site-packages/tqdm/auto.py:22: TqdmWarning: IProgress not found. Please update jupyter and ipywidgets. See https://ipywidgets.readthedocs.io/en/stable/user_install.html\n",
      "  from .autonotebook import tqdm as notebook_tqdm\n"
     ]
    }
   ],
   "source": [
    "import torch\n",
    "import torch.nn as nn\n",
    "import torch.nn.functional as F\n",
    "import torch.optim as optim\n",
    "from torch.utils.data import Dataset"
   ]
  },
  {
   "cell_type": "code",
   "execution_count": 2,
   "metadata": {},
   "outputs": [],
   "source": [
    "import numpy as np\n",
    "import matplotlib.pyplot as plt"
   ]
  },
  {
   "cell_type": "code",
   "execution_count": 158,
   "metadata": {},
   "outputs": [
    {
     "data": {
      "text/plain": [
       "<matplotlib.image.AxesImage at 0x7f757335db40>"
      ]
     },
     "execution_count": 158,
     "metadata": {},
     "output_type": "execute_result"
    },
    {
     "data": {
      "image/png": "[encoded data removed]",
      "text/plain": [
       "<Figure size 640x480 with 1 Axes>"
      ]
     },
     "metadata": {},
     "output_type": "display_data"
    }
   ],
   "source": [
    "plt.imshow(torch.flip(images[0], [0]).T, cmap='gray')"
   ]
  },
  {
   "cell_type": "code",
   "execution_count": 159,
   "metadata": {},
   "outputs": [
    {
     "data": {
      "text/plain": [
       "<matplotlib.image.AxesImage at 0x7f757b2c3a90>"
      ]
     },
     "execution_count": 159,
     "metadata": {},
     "output_type": "execute_result"
    },
    {
     "data": {
      "image/png": "[encoded data removed]",
      "text/plain": [
       "<Figure size 640x480 with 1 Axes>"
      ]
     },
     "metadata": {},
     "output_type": "display_data"
    }
   ],
   "source": [
    "plt.imshow(images[0], cmap='gray')"
   ]
  },
  {
   "cell_type": "code",
   "execution_count": 73,
   "metadata": {},
   "outputs": [
    {
     "data": {
      "text/plain": [
       "(5000, 28, 28)"
      ]
     },
     "execution_count": 73,
     "metadata": {},
     "output_type": "execute_result"
    }
   ],
   "source": [
    "data['images'].shape"
   ]
  },
  {
   "cell_type": "code",
   "execution_count": 69,
   "metadata": {},
   "outputs": [],
   "source": [
    "# np.min(data['images'][30])"
   ]
  },
  {
   "cell_type": "code",
   "execution_count": 42,
   "metadata": {},
   "outputs": [],
   "source": [
    "model = nn.Sequential(nn.Conv2d(1, 2, kernel_size=3, padding=3),\n",
    "                      nn.MaxPool2d(kernel_size=2, stride=2),\n",
    "                      nn.BatchNorm2d(2),\n",
    "                      nn.ReLU(),\n",
    "                      nn.Conv2d(2, 4, kernel_size=3, padding=1),\n",
    "                      nn.MaxPool2d(kernel_size=2, stride=2),\n",
    "                      nn.BatchNorm2d(4),\n",
    "                      nn.ReLU(),\n",
    "                      nn.Conv2d(4, 8, kernel_size=3, padding=1),\n",
    "                      nn.MaxPool2d(kernel_size=2, stride=2),\n",
    "                      nn.BatchNorm2d(8),\n",
    "                      nn.ReLU(),\n",
    "                      nn.Conv2d(8, 16, kernel_size=3, padding=1),\n",
    "                      nn.MaxPool2d(kernel_size=2, stride=2),\n",
    "                      nn.BatchNorm2d(16),\n",
    "                      nn.ReLU(),\n",
    "                      nn.Conv2d(16, 32, kernel_size=3, padding=1),\n",
    "                      nn.MaxPool2d(kernel_size=2, stride=2),\n",
    "                      nn.ReLU(),\n",
    "                      nn.Flatten(),\n",
    "                      nn.Linear(32, 32),\n",
    "                      nn.ReLU(),\n",
    "                      nn.Dropout(0.5),\n",
    "                      nn.Linear(32, 10),\n",
    "                      nn.LogSoftmax(dim=-1))"
   ]
  },
  {
   "cell_type": "code",
   "execution_count": 4,
   "metadata": {},
   "outputs": [
    {
     "name": "stdout",
     "output_type": "stream",
     "text": [
      "num_params : 7646\n"
     ]
    }
   ],
   "source": [
    "count = 0\n",
    "for param in model.parameters():\n",
    "    count += np.prod(list(param.shape))\n",
    "print('num_params :', count)"
   ]
  },
  {
   "cell_type": "code",
   "execution_count": 5,
   "metadata": {},
   "outputs": [],
   "source": [
    "suffix = [0,1,2,3,4]\n",
    "base_path = '/home/harsh/dtu_mlops/data/corruptmnist'\n",
    "images = []\n",
    "labels = []\n",
    "for s in suffix:\n",
    "    path = base_path + '/train_' + str(s) + '.npz'\n",
    "    data = np.load(path)\n",
    "    images.append(torch.FloatTensor(data['images'].astype(np.float32)))\n",
    "    labels.append(torch.LongTensor(data['labels']))"
   ]
  },
  {
   "cell_type": "code",
   "execution_count": 6,
   "metadata": {},
   "outputs": [],
   "source": [
    "images = torch.cat(images, dim=0)\n",
    "labels = torch.cat(labels, dim=0)"
   ]
  },
  {
   "cell_type": "code",
   "execution_count": 7,
   "metadata": {},
   "outputs": [
    {
     "data": {
      "text/plain": [
       "torch.Size([25000, 28, 28])"
      ]
     },
     "execution_count": 7,
     "metadata": {},
     "output_type": "execute_result"
    }
   ],
   "source": [
    "images.shape"
   ]
  },
  {
   "cell_type": "code",
   "execution_count": 8,
   "metadata": {},
   "outputs": [
    {
     "data": {
      "text/plain": [
       "torch.Size([25000])"
      ]
     },
     "execution_count": 8,
     "metadata": {},
     "output_type": "execute_result"
    }
   ],
   "source": [
    "labels.shape"
   ]
  },
  {
   "cell_type": "code",
   "execution_count": 12,
   "metadata": {},
   "outputs": [],
   "source": [
    "train_set, val_set = torch.utils.data.random_split(dataset, [20000, 5000])"
   ]
  },
  {
   "cell_type": "code",
   "execution_count": 13,
   "metadata": {},
   "outputs": [
    {
     "data": {
      "text/plain": [
       "<torch.utils.data.dataset.Subset at 0x7f09af68af50>"
      ]
     },
     "execution_count": 13,
     "metadata": {},
     "output_type": "execute_result"
    }
   ],
   "source": [
    "train_set"
   ]
  },
  {
   "cell_type": "code",
   "execution_count": 14,
   "metadata": {},
   "outputs": [],
   "source": [
    "trainloader = torch.utils.data.DataLoader(train_set, batch_size=64, shuffle=True, pin_memory=True)  "
   ]
  },
  {
   "cell_type": "code",
   "execution_count": 15,
   "metadata": {},
   "outputs": [],
   "source": [
    "valloader = torch.utils.data.DataLoader(val_set, batch_size=64)  "
   ]
  },
  {
   "cell_type": "code",
   "execution_count": 45,
   "metadata": {},
   "outputs": [],
   "source": [
    "optimizer = optim.Adam(model.parameters(), lr=0.0002, betas=(0.5, 0.999))"
   ]
  },
  {
   "cell_type": "code",
   "execution_count": 43,
   "metadata": {},
   "outputs": [
    {
     "data": {
      "text/plain": [
       "Sequential(\n",
       "  (0): Conv2d(1, 2, kernel_size=(3, 3), stride=(1, 1), padding=(3, 3))\n",
       "  (1): MaxPool2d(kernel_size=2, stride=2, padding=0, dilation=1, ceil_mode=False)\n",
       "  (2): BatchNorm2d(2, eps=1e-05, momentum=0.1, affine=True, track_running_stats=True)\n",
       "  (3): ReLU()\n",
       "  (4): Conv2d(2, 4, kernel_size=(3, 3), stride=(1, 1), padding=(1, 1))\n",
       "  (5): MaxPool2d(kernel_size=2, stride=2, padding=0, dilation=1, ceil_mode=False)\n",
       "  (6): BatchNorm2d(4, eps=1e-05, momentum=0.1, affine=True, track_running_stats=True)\n",
       "  (7): ReLU()\n",
       "  (8): Conv2d(4, 8, kernel_size=(3, 3), stride=(1, 1), padding=(1, 1))\n",
       "  (9): MaxPool2d(kernel_size=2, stride=2, padding=0, dilation=1, ceil_mode=False)\n",
       "  (10): BatchNorm2d(8, eps=1e-05, momentum=0.1, affine=True, track_running_stats=True)\n",
       "  (11): ReLU()\n",
       "  (12): Conv2d(8, 16, kernel_size=(3, 3), stride=(1, 1), padding=(1, 1))\n",
       "  (13): MaxPool2d(kernel_size=2, stride=2, padding=0, dilation=1, ceil_mode=False)\n",
       "  (14): BatchNorm2d(16, eps=1e-05, momentum=0.1, affine=True, track_running_stats=True)\n",
       "  (15): ReLU()\n",
       "  (16): Conv2d(16, 32, kernel_size=(3, 3), stride=(1, 1), padding=(1, 1))\n",
       "  (17): MaxPool2d(kernel_size=2, stride=2, padding=0, dilation=1, ceil_mode=False)\n",
       "  (18): ReLU()\n",
       "  (19): Flatten(start_dim=1, end_dim=-1)\n",
       "  (20): Linear(in_features=32, out_features=32, bias=True)\n",
       "  (21): ReLU()\n",
       "  (22): Dropout(p=0.5, inplace=False)\n",
       "  (23): Linear(in_features=32, out_features=10, bias=True)\n",
       "  (24): LogSoftmax(dim=-1)\n",
       ")"
      ]
     },
     "execution_count": 43,
     "metadata": {},
     "output_type": "execute_result"
    }
   ],
   "source": [
    "model.cuda()"
   ]
  },
  {
   "cell_type": "code",
   "execution_count": 46,
   "metadata": {},
   "outputs": [
    {
     "name": "stdout",
     "output_type": "stream",
     "text": [
      "train_loss :  2.252247300772621\n",
      "val_loss :  2.0303750792636146\n",
      "train_loss :  1.754741969199988\n",
      "val_loss :  1.2031161709676814\n",
      "train_loss :  1.2878000955231272\n",
      "val_loss :  0.7963706028612354\n",
      "train_loss :  1.0541804210065653\n",
      "val_loss :  0.6205353438854218\n",
      "train_loss :  0.9382317523225047\n",
      "val_loss :  0.5421024187456204\n",
      "train_loss :  0.8531670124766926\n",
      "val_loss :  0.47403679599490345\n",
      "train_loss :  0.7911175687473041\n",
      "val_loss :  0.4221423213617711\n",
      "train_loss :  0.7399439201377832\n",
      "val_loss :  0.38727979437459875\n",
      "train_loss :  0.6933456756436406\n",
      "val_loss :  0.36228019791313365\n",
      "train_loss :  0.6535286608214577\n",
      "val_loss :  0.335987586292285\n",
      "train_loss :  0.6268255164067205\n",
      "val_loss :  0.3172572681420966\n",
      "train_loss :  0.591830070502461\n",
      "val_loss :  0.300276438835301\n",
      "train_loss :  0.581056815938066\n",
      "val_loss :  0.2879685881205752\n",
      "train_loss :  0.5604013109835573\n",
      "val_loss :  0.2779368345118776\n",
      "train_loss :  0.5403346135593451\n",
      "val_loss :  0.2674723216627218\n",
      "train_loss :  0.5168694872825671\n",
      "val_loss :  0.25495882327609426\n",
      "train_loss :  0.510840396435497\n",
      "val_loss :  0.2571204131634175\n",
      "train_loss :  0.48600488172742884\n",
      "val_loss :  0.24763111873895308\n",
      "train_loss :  0.4777566067898235\n",
      "val_loss :  0.23850519898571546\n",
      "train_loss :  0.4652770012617111\n",
      "val_loss :  0.233825038717706\n",
      "train_loss :  0.4482947988346362\n",
      "val_loss :  0.22821487774011456\n",
      "train_loss :  0.444872789537183\n",
      "val_loss :  0.2282049068355862\n",
      "train_loss :  0.4380495463506863\n",
      "val_loss :  0.22074609233325795\n",
      "train_loss :  0.4267580376360744\n",
      "val_loss :  0.21531718544944933\n",
      "train_loss :  0.4184678413045292\n",
      "val_loss :  0.21182797752509389\n",
      "train_loss :  0.41895166801187556\n",
      "val_loss :  0.2101459370430889\n",
      "train_loss :  0.406011250691292\n",
      "val_loss :  0.21169109595350072\n",
      "train_loss :  0.39231605346972187\n",
      "val_loss :  0.20659895251870533\n",
      "train_loss :  0.39350363021841445\n",
      "val_loss :  0.20097068578146304\n",
      "train_loss :  0.3878974574632919\n",
      "val_loss :  0.202553179445146\n"
     ]
    }
   ],
   "source": [
    "epoch = 30\n",
    "loss_fn = nn.NLLLoss()\n",
    "isTrain = True\n",
    "for i in range(epoch):\n",
    "    global isTrain\n",
    "    \n",
    "    running_train_loss = 0\n",
    "    running_val_loss = 0\n",
    "    model.train()\n",
    "    isTrain = True\n",
    "    \n",
    "    for images, labels in trainloader:        \n",
    "        optimizer.zero_grad()\n",
    "        output = model(images.cuda())\n",
    "        loss = loss_fn(output, labels.cuda())\n",
    "        loss.backward()\n",
    "        running_train_loss += loss.item()\n",
    "        optimizer.step()\n",
    "    \n",
    "    model.eval()\n",
    "    isTrain = False\n",
    "    with torch.no_grad():\n",
    "        for images, labels in valloader:\n",
    "            output = model(images.cuda())\n",
    "            loss = loss_fn(output, labels.cuda())\n",
    "            running_val_loss += loss.item()\n",
    "    \n",
    "    print('train_loss : ', running_train_loss / len(trainloader))\n",
    "    print('val_loss : ', running_val_loss / len(valloader))"
   ]
  },
  {
   "cell_type": "code",
   "execution_count": 23,
   "metadata": {},
   "outputs": [],
   "source": []
  },
  {
   "cell_type": "code",
   "execution_count": 106,
   "metadata": {},
   "outputs": [],
   "source": [
    "# 25000 / 60"
   ]
  },
  {
   "cell_type": "code",
   "execution_count": 108,
   "metadata": {},
   "outputs": [
    {
     "data": {
      "text/plain": [
       "0.25"
      ]
     },
     "execution_count": 108,
     "metadata": {},
     "output_type": "execute_result"
    }
   ],
   "source": [
    "16 / 64"
   ]
  },
  {
   "cell_type": "code",
   "execution_count": 115,
   "metadata": {},
   "outputs": [
    {
     "data": {
      "text/plain": [
       "True"
      ]
     },
     "execution_count": 115,
     "metadata": {},
     "output_type": "execute_result"
    }
   ],
   "source": [
    "labels[0].item()==5"
   ]
  },
  {
   "cell_type": "code",
   "execution_count": 111,
   "metadata": {},
   "outputs": [
    {
     "data": {
      "text/plain": [
       "0.06944647506961454"
      ]
     },
     "execution_count": 111,
     "metadata": {},
     "output_type": "execute_result"
    }
   ],
   "source": [
    "np.random.uniform()"
   ]
  },
  {
   "cell_type": "code",
   "execution_count": 9,
   "metadata": {},
   "outputs": [],
   "source": [
    "isTrain = True"
   ]
  },
  {
   "cell_type": "code",
   "execution_count": null,
   "metadata": {},
   "outputs": [],
   "source": [
    "m"
   ]
  },
  {
   "cell_type": "code",
   "execution_count": 10,
   "metadata": {},
   "outputs": [],
   "source": [
    "class Data(Dataset):\n",
    "    def __init__(self, image, label):\n",
    "        self.images = image\n",
    "        self.labels = label\n",
    "        self.transform_probability = 0.2\n",
    "    \n",
    "    def __len__(self):\n",
    "        return len(self.labels)\n",
    "    \n",
    "    def rotate(self, tensor):\n",
    "        if np.random.randint(2):\n",
    "            return torch.flip(tensor, [0]).T.unsqueeze(0)\n",
    "        else:\n",
    "            return torch.flip(tensor, [1]).T.unsqueeze(0)\n",
    "\n",
    "    def __getitem__(self, idx):\n",
    "        global isTrain\n",
    "        \n",
    "        if isTrain and self.labels[idx].item() != 6 and self.labels[idx].item() != 9 and np.random.uniform() < self.transform_probability:\n",
    "            return self.rotate(self.images[idx]), self.labels[idx]\n",
    "        \n",
    "        return self.images[[idx]], self.labels[idx]"
   ]
  },
  {
   "cell_type": "code",
   "execution_count": 162,
   "metadata": {},
   "outputs": [],
   "source": [
    "# torch.flip(images[0],[0])"
   ]
  },
  {
   "cell_type": "code",
   "execution_count": 167,
   "metadata": {},
   "outputs": [],
   "source": [
    "# dataset.rotate(images[0])"
   ]
  },
  {
   "cell_type": "code",
   "execution_count": 11,
   "metadata": {},
   "outputs": [],
   "source": [
    "dataset = Data(images, labels)"
   ]
  },
  {
   "cell_type": "code",
   "execution_count": 168,
   "metadata": {},
   "outputs": [],
   "source": [
    "trainloader = torch.utils.data.DataLoader(dataset, batch_size=64, shuffle=True, pin_memory=True)"
   ]
  },
  {
   "cell_type": "code",
   "execution_count": 145,
   "metadata": {},
   "outputs": [],
   "source": [
    "# dataset.__getitem__(0)"
   ]
  },
  {
   "cell_type": "code",
   "execution_count": 172,
   "metadata": {},
   "outputs": [],
   "source": [
    "image, label = next(iter(trainloader))"
   ]
  },
  {
   "cell_type": "code",
   "execution_count": 173,
   "metadata": {},
   "outputs": [
    {
     "data": {
      "text/plain": [
       "torch.Size([64, 1, 28, 28])"
      ]
     },
     "execution_count": 173,
     "metadata": {},
     "output_type": "execute_result"
    }
   ],
   "source": [
    "image.shape"
   ]
  },
  {
   "cell_type": "code",
   "execution_count": 201,
   "metadata": {},
   "outputs": [],
   "source": [
    "# model(image)"
   ]
  },
  {
   "cell_type": "code",
   "execution_count": 25,
   "metadata": {},
   "outputs": [],
   "source": [
    "path = base_path + '/test' + '.npz'\n",
    "data = np.load(path)\n",
    "test_images = torch.FloatTensor(data['images'].astype(np.float32))\n",
    "test_labels = torch.LongTensor(data['labels'])"
   ]
  },
  {
   "cell_type": "code",
   "execution_count": 26,
   "metadata": {},
   "outputs": [
    {
     "data": {
      "text/plain": [
       "torch.Size([5000, 28, 28])"
      ]
     },
     "execution_count": 26,
     "metadata": {},
     "output_type": "execute_result"
    }
   ],
   "source": [
    "test_images.shape"
   ]
  },
  {
   "cell_type": "code",
   "execution_count": 27,
   "metadata": {},
   "outputs": [],
   "source": [
    "test_dataset = Data(test_images, test_labels)"
   ]
  },
  {
   "cell_type": "code",
   "execution_count": 28,
   "metadata": {},
   "outputs": [],
   "source": [
    "testloader = torch.utils.data.DataLoader(test_dataset, batch_size=64)"
   ]
  },
  {
   "cell_type": "code",
   "execution_count": 30,
   "metadata": {},
   "outputs": [
    {
     "data": {
      "text/plain": [
       "tensor([5, 2, 9, 4, 3, 2, 3, 6, 3, 9, 6, 9, 5, 2, 3, 7, 6, 8, 6, 7, 0, 8, 3, 2,\n",
       "        4, 2, 7, 4, 2, 1, 5, 5, 6, 4, 1, 7, 9, 0, 8, 2, 3, 6, 2, 2, 5, 6, 5, 7,\n",
       "        0, 4, 1, 1, 1, 8, 5, 6, 3, 4, 8, 6, 9, 5, 2, 9])"
      ]
     },
     "execution_count": 30,
     "metadata": {},
     "output_type": "execute_result"
    }
   ],
   "source": [
    "torch.argmax(torch.randn(64,10), axis=-1)"
   ]
  },
  {
   "cell_type": "code",
   "execution_count": 47,
   "metadata": {},
   "outputs": [
    {
     "name": "stdout",
     "output_type": "stream",
     "text": [
      "accuracy :  0.8848\n"
     ]
    }
   ],
   "source": [
    "model.eval()\n",
    "isTrain = False\n",
    "correct = 0\n",
    "total = 0\n",
    "with torch.no_grad():\n",
    "    for images, labels in testloader:\n",
    "        output = model(images.cuda())\n",
    "        prediction = torch.argmax(output, axis=-1).cpu()\n",
    "        correct += torch.sum(prediction == labels).item()\n",
    "        total += len(labels)\n",
    "    \n",
    "    print('accuracy : ', correct / total)"
   ]
  },
  {
   "cell_type": "code",
   "execution_count": null,
   "metadata": {},
   "outputs": [],
   "source": []
  }
 ],
 "metadata": {
  "kernelspec": {
   "display_name": "Python 3 (ipykernel)",
   "language": "python",
   "name": "python3"
  },
  "language_info": {
   "codemirror_mode": {
    "name": "ipython",
    "version": 3
   },
   "file_extension": ".py",
   "mimetype": "text/x-python",
   "name": "python",
   "nbconvert_exporter": "python",
   "pygments_lexer": "ipython3",
   "version": "3.10.4"
  }
 },
 "nbformat": 4,
 "nbformat_minor": 2
}
